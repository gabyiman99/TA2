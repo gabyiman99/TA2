{
 "cells": [
  {
   "cell_type": "code",
   "execution_count": 3,
   "metadata": {},
   "outputs": [],
   "source": [
    "from matplotlib.image import imread\n",
    "from matplotlib import image\n",
    "import matplotlib.pyplot as plt\n",
    "import numpy as np\n",
    "import pywt\n",
    "import os\n",
    "from PIL import Image\n",
    "from skimage import color\n",
    "from sklearn import svm\n",
    "import pandas as pd"
   ]
  },
  {
   "cell_type": "code",
   "execution_count": 40,
   "metadata": {},
   "outputs": [],
   "source": [
    "HIST_FOLDER = r'D:\\GABY\\UPH\\TA2\\Code\\face-detection-result-clean-resized-gray-hist'\n",
    "DWT_WITH_DCT_FOLDER = r'D:\\GABY\\UPH\\TA2\\Code\\face-detection-result-clean-resized-gray-hist-dwtwithdct'\n",
    "TEST_DWT_WITH_DCT_FOLDER = r'D:\\GABY\\UPH\\TA2\\Code\\test-face-detection-result-clean-resized-gray-hist-dwtwithdct'\n",
    "CSV_FOLDER = r'D:\\GABY\\UPH\\TA2\\Code\\face-detection-result-clean-picked-id.csv'\n",
    "TEST_FOLDER = r'D:\\GABY\\UPH\\TA2\\Code\\test-face-detection-result-clean-resized-gray-hist'\n",
    "TEST_CSV = r'D:\\GABY\\UPH\\TA2\\Code\\test-face-detection-result-clean-picked-id.csv'"
   ]
  },
  {
   "cell_type": "code",
   "execution_count": 5,
   "metadata": {},
   "outputs": [],
   "source": [
    "#find number of images in file\n",
    "list = os.listdir(HIST_FOLDER) # dir is your directory path\n",
    "number_files = len(list)"
   ]
  },
  {
   "cell_type": "markdown",
   "metadata": {},
   "source": [
    "## Training Phase"
   ]
  },
  {
   "cell_type": "markdown",
   "metadata": {},
   "source": [
    "### Discrete Wavelet Transform"
   ]
  },
  {
   "cell_type": "code",
   "execution_count": 6,
   "metadata": {},
   "outputs": [],
   "source": [
    "#Wavelet Compression\n",
    "w = 'haar'\n",
    "\n",
    "#features array for SVM\n",
    "x1 = [] #keep 90%\n",
    "x2 = [] #keep 75%\n",
    "\n",
    "for keep in (0.9, 0.75):   \n",
    "    for iteration in range(number_files):\n",
    "        i = iteration+1\n",
    "        img = Image.open(f'{HIST_FOLDER}/{str(i)}.jpg')\n",
    "        coeffs = pywt.wavedec2(img, wavelet = w, level=2) \n",
    "        coeff_arr, coeff_slices = pywt.coeffs_to_array(coeffs) #arrange coeffs into single array\n",
    "        features = coeff_arr[coeff_slices[0]]\n",
    "        \n",
    "        #input DWT compressed coefficients to corresponding arrays\n",
    "        if(keep == 0.9):\n",
    "            x1.append(features)\n",
    "            #plt.imsave(f'{DWT_WITH_DCT_FOLDER}-{str(90)}/{str(i)}.jpg', recon.astype('uint8'), cmap = 'gray')\n",
    "        elif(keep == 0.75):\n",
    "            x2.append(features)\n",
    "            #plt.imsave(f'{DWT_WITH_DCT_FOLDER}-{str(75)}/{str(i)}.jpg', recon.astype('uint8'), cmap = 'gray')"
   ]
  },
  {
   "cell_type": "code",
   "execution_count": 7,
   "metadata": {},
   "outputs": [
    {
     "data": {
      "text/plain": [
       "354"
      ]
     },
     "execution_count": 7,
     "metadata": {},
     "output_type": "execute_result"
    }
   ],
   "source": [
    "len(x1)"
   ]
  },
  {
   "cell_type": "markdown",
   "metadata": {},
   "source": [
    "### Discrete Cosine Transform"
   ]
  },
  {
   "cell_type": "code",
   "execution_count": 8,
   "metadata": {},
   "outputs": [],
   "source": [
    "from scipy.fft import dctn"
   ]
  },
  {
   "cell_type": "code",
   "execution_count": 9,
   "metadata": {},
   "outputs": [],
   "source": [
    "#find number of images in file\n",
    "list = os.listdir(DWT_WITH_DCT_FOLDER) # dir is your directory path\n",
    "number_files = len(list)"
   ]
  },
  {
   "cell_type": "code",
   "execution_count": 10,
   "metadata": {},
   "outputs": [],
   "source": [
    "dct_coeffs =[]"
   ]
  },
  {
   "cell_type": "code",
   "execution_count": 11,
   "metadata": {},
   "outputs": [],
   "source": [
    "#perform DCT on all images\n",
    "for i in range(354):\n",
    "    coeff = dctn(x1[i] , norm ='ortho')\n",
    "    dct_coeffs.append(coeff)"
   ]
  },
  {
   "cell_type": "markdown",
   "metadata": {},
   "source": [
    "find minimum number of coefficients (n)"
   ]
  },
  {
   "cell_type": "code",
   "execution_count": 12,
   "metadata": {},
   "outputs": [],
   "source": [
    "coeffs_min = len(dct_coeffs[0])*len(dct_coeffs[0])\n",
    "ind_coeffs_min = dct_coeffs[0]"
   ]
  },
  {
   "cell_type": "code",
   "execution_count": 13,
   "metadata": {},
   "outputs": [],
   "source": [
    "for i in range(len(dct_coeffs)):\n",
    "    if(len(dct_coeffs[i])*len(dct_coeffs[i][0])<coeffs_min):\n",
    "        coeffs_min = len(dct_coeffs[i])*len(dct_coeffs[i][0])\n",
    "        ind_coeffs_min = i"
   ]
  },
  {
   "cell_type": "code",
   "execution_count": 14,
   "metadata": {},
   "outputs": [
    {
     "data": {
      "text/plain": [
       "572"
      ]
     },
     "execution_count": 14,
     "metadata": {},
     "output_type": "execute_result"
    }
   ],
   "source": [
    "coeffs_min"
   ]
  },
  {
   "cell_type": "markdown",
   "metadata": {},
   "source": [
    "for all images, choose n coefficients for svm input"
   ]
  },
  {
   "cell_type": "code",
   "execution_count": 15,
   "metadata": {},
   "outputs": [],
   "source": [
    "new_coeffs = []"
   ]
  },
  {
   "cell_type": "code",
   "execution_count": 16,
   "metadata": {},
   "outputs": [],
   "source": [
    "for n in range(number_files):\n",
    "    height = len(dct_coeffs[n])\n",
    "    width = len(dct_coeffs[n][0])\n",
    "    row = []\n",
    "    for k in range(width+height-1):\n",
    "        for j in range(k+1):\n",
    "            i = k-j\n",
    "            if i<height and j<width:\n",
    "                if len(row) < coeffs_min:\n",
    "                    row.append(dct_coeffs[n][i][j])\n",
    "    new_coeffs.append(row)"
   ]
  },
  {
   "cell_type": "markdown",
   "metadata": {},
   "source": [
    "### SVM"
   ]
  },
  {
   "cell_type": "markdown",
   "metadata": {},
   "source": [
    "Train data"
   ]
  },
  {
   "cell_type": "code",
   "execution_count": 72,
   "metadata": {},
   "outputs": [],
   "source": [
    "x = pd.DataFrame(new_coeffs)\n",
    "y = pd.read_csv(CSV_FOLDER, header=None)"
   ]
  },
  {
   "cell_type": "markdown",
   "metadata": {},
   "source": [
    "Validation data"
   ]
  },
  {
   "cell_type": "code",
   "execution_count": 18,
   "metadata": {},
   "outputs": [],
   "source": [
    "from sklearn.model_selection import train_test_split"
   ]
  },
  {
   "cell_type": "code",
   "execution_count": 47,
   "metadata": {},
   "outputs": [],
   "source": [
    "x_train, x_val, y_train, y_val = train_test_split(x, y, test_size=0.2, random_state=0)"
   ]
  },
  {
   "cell_type": "markdown",
   "metadata": {},
   "source": [
    "build classifier with default parameter values"
   ]
  },
  {
   "cell_type": "code",
   "execution_count": 48,
   "metadata": {},
   "outputs": [
    {
     "data": {
      "text/plain": [
       "SVC()"
      ]
     },
     "execution_count": 48,
     "metadata": {},
     "output_type": "execute_result"
    }
   ],
   "source": [
    "classifier = svm.SVC()\n",
    "classifier.fit(x_train,y_train.values.ravel())"
   ]
  },
  {
   "cell_type": "code",
   "execution_count": 53,
   "metadata": {},
   "outputs": [],
   "source": [
    "result = classifier.predict(x_val)"
   ]
  },
  {
   "cell_type": "code",
   "execution_count": 54,
   "metadata": {},
   "outputs": [
    {
     "data": {
      "text/plain": [
       "array([ 4, 10,  2,  2,  2,  4, 12,  4,  2,  9, 10,  4,  2,  2, 22,  2, 19,\n",
       "        2, 19,  2, 22,  4,  2,  4,  5, 22, 19,  2,  2,  4,  2, 12,  4,  2,\n",
       "       22, 14,  2,  4,  4,  2, 14, 10,  4, 19, 22,  2,  2,  4,  2,  2,  2,\n",
       "        4,  2, 12,  9,  4, 22,  2,  4, 22,  4,  9,  2, 22,  4, 14, 14,  2,\n",
       "       12,  2,  2], dtype=int64)"
      ]
     },
     "execution_count": 54,
     "metadata": {},
     "output_type": "execute_result"
    }
   ],
   "source": [
    "result"
   ]
  },
  {
   "cell_type": "code",
   "execution_count": 55,
   "metadata": {},
   "outputs": [
    {
     "data": {
      "text/plain": [
       "7"
      ]
     },
     "execution_count": 55,
     "metadata": {},
     "output_type": "execute_result"
    }
   ],
   "source": [
    "#checking for accuracy\n",
    "cnt = 0\n",
    "for i in range(len(y_val)):\n",
    "    if(result[i]==y_val[0].values[i]):\n",
    "        cnt = cnt+1\n",
    "acc = cnt/len(y_val)\n",
    "cnt"
   ]
  },
  {
   "cell_type": "code",
   "execution_count": 56,
   "metadata": {},
   "outputs": [
    {
     "data": {
      "text/plain": [
       "9.859154929577464"
      ]
     },
     "execution_count": 56,
     "metadata": {},
     "output_type": "execute_result"
    }
   ],
   "source": [
    "acc*100"
   ]
  },
  {
   "cell_type": "markdown",
   "metadata": {},
   "source": [
    "Trying out different values of C and gamma"
   ]
  },
  {
   "cell_type": "code",
   "execution_count": 57,
   "metadata": {},
   "outputs": [
    {
     "data": {
      "text/plain": [
       "2"
      ]
     },
     "execution_count": 57,
     "metadata": {},
     "output_type": "execute_result"
    }
   ],
   "source": [
    "c_vals = np.arange(1,100)\n",
    "g_vals = ['scale', 'auto']\n",
    "len(g_vals)"
   ]
  },
  {
   "cell_type": "code",
   "execution_count": 58,
   "metadata": {},
   "outputs": [],
   "source": [
    "right_guess = []\n",
    "accuracies = []"
   ]
  },
  {
   "cell_type": "code",
   "execution_count": 59,
   "metadata": {},
   "outputs": [],
   "source": [
    "for c_val in c_vals:\n",
    "    row_guess = []\n",
    "    row_acc = []\n",
    "    for g_val in g_vals:\n",
    "        classifier = svm.SVC(C = c_val, gamma = g_val)\n",
    "        classifier.fit(x_train,y_train.values.ravel())\n",
    "        result = classifier.predict(x_val)\n",
    "        cnt = 0\n",
    "        for i in range(len(y_val)):\n",
    "            if(result[i]==y_val[0].values[i]):\n",
    "                cnt = cnt+1\n",
    "        acc = cnt/len(y_val)\n",
    "        row_guess.append(cnt)\n",
    "        row_acc.append(acc*100)\n",
    "    right_guess.append(row_guess)\n",
    "    accuracies.append(row_acc)"
   ]
  },
  {
   "cell_type": "code",
   "execution_count": 60,
   "metadata": {},
   "outputs": [],
   "source": [
    "right_guess = np.array(right_guess)"
   ]
  },
  {
   "cell_type": "code",
   "execution_count": 96,
   "metadata": {},
   "outputs": [
    {
     "data": {
      "text/html": [
       "<div>\n",
       "<style scoped>\n",
       "    .dataframe tbody tr th:only-of-type {\n",
       "        vertical-align: middle;\n",
       "    }\n",
       "\n",
       "    .dataframe tbody tr th {\n",
       "        vertical-align: top;\n",
       "    }\n",
       "\n",
       "    .dataframe thead th {\n",
       "        text-align: right;\n",
       "    }\n",
       "</style>\n",
       "<table border=\"1\" class=\"dataframe\">\n",
       "  <thead>\n",
       "    <tr style=\"text-align: right;\">\n",
       "      <th></th>\n",
       "      <th>scale</th>\n",
       "      <th>auto</th>\n",
       "    </tr>\n",
       "  </thead>\n",
       "  <tbody>\n",
       "    <tr>\n",
       "      <th>1</th>\n",
       "      <td>7</td>\n",
       "      <td>1</td>\n",
       "    </tr>\n",
       "    <tr>\n",
       "      <th>2</th>\n",
       "      <td>16</td>\n",
       "      <td>1</td>\n",
       "    </tr>\n",
       "    <tr>\n",
       "      <th>3</th>\n",
       "      <td>23</td>\n",
       "      <td>1</td>\n",
       "    </tr>\n",
       "    <tr>\n",
       "      <th>4</th>\n",
       "      <td>30</td>\n",
       "      <td>1</td>\n",
       "    </tr>\n",
       "    <tr>\n",
       "      <th>5</th>\n",
       "      <td>30</td>\n",
       "      <td>1</td>\n",
       "    </tr>\n",
       "    <tr>\n",
       "      <th>...</th>\n",
       "      <td>...</td>\n",
       "      <td>...</td>\n",
       "    </tr>\n",
       "    <tr>\n",
       "      <th>95</th>\n",
       "      <td>36</td>\n",
       "      <td>1</td>\n",
       "    </tr>\n",
       "    <tr>\n",
       "      <th>96</th>\n",
       "      <td>36</td>\n",
       "      <td>1</td>\n",
       "    </tr>\n",
       "    <tr>\n",
       "      <th>97</th>\n",
       "      <td>36</td>\n",
       "      <td>1</td>\n",
       "    </tr>\n",
       "    <tr>\n",
       "      <th>98</th>\n",
       "      <td>36</td>\n",
       "      <td>1</td>\n",
       "    </tr>\n",
       "    <tr>\n",
       "      <th>99</th>\n",
       "      <td>36</td>\n",
       "      <td>1</td>\n",
       "    </tr>\n",
       "  </tbody>\n",
       "</table>\n",
       "<p>99 rows × 2 columns</p>\n",
       "</div>"
      ],
      "text/plain": [
       "    scale  auto\n",
       "1       7     1\n",
       "2      16     1\n",
       "3      23     1\n",
       "4      30     1\n",
       "5      30     1\n",
       "..    ...   ...\n",
       "95     36     1\n",
       "96     36     1\n",
       "97     36     1\n",
       "98     36     1\n",
       "99     36     1\n",
       "\n",
       "[99 rows x 2 columns]"
      ]
     },
     "execution_count": 96,
     "metadata": {},
     "output_type": "execute_result"
    }
   ],
   "source": [
    "right_guess_df = pd.DataFrame(right_guess)\n",
    "right_guess_df.columns = g_vals\n",
    "right_guess_df.index = c_vals\n",
    "right_guess_df"
   ]
  },
  {
   "cell_type": "code",
   "execution_count": 67,
   "metadata": {},
   "outputs": [
    {
     "data": {
      "text/plain": [
       "scale    36\n",
       "auto      1\n",
       "dtype: int32"
      ]
     },
     "execution_count": 67,
     "metadata": {},
     "output_type": "execute_result"
    }
   ],
   "source": [
    "top = right_guess_df.max()\n",
    "top"
   ]
  },
  {
   "cell_type": "markdown",
   "metadata": {},
   "source": [
    "Find the value of C and gamma"
   ]
  },
  {
   "cell_type": "code",
   "execution_count": 63,
   "metadata": {},
   "outputs": [],
   "source": [
    "import seaborn as sns"
   ]
  },
  {
   "cell_type": "code",
   "execution_count": 64,
   "metadata": {},
   "outputs": [
    {
     "data": {
      "image/png": "[encoded data removed]",
      "text/plain": [
       "<Figure size 432x288 with 2 Axes>"
      ]
     },
     "metadata": {
      "needs_background": "light"
     },
     "output_type": "display_data"
    }
   ],
   "source": [
    "ax = sns.heatmap(right_guess_df)"
   ]
  },
  {
   "cell_type": "code",
   "execution_count": 109,
   "metadata": {},
   "outputs": [
    {
     "data": {
      "image/png": "[encoded data removed]",
      "text/plain": [
       "<Figure size 432x288 with 1 Axes>"
      ]
     },
     "metadata": {
      "needs_background": "light"
     },
     "output_type": "display_data"
    }
   ],
   "source": [
    "fig, ax = plt.subplots()\n",
    "ax.plot(c_vals, right_guess_df['scale'].values, label='scale')\n",
    "ax.plot(c_vals, right_guess_df['auto'].values, label='auto')\n",
    "plt.xlabel('C')\n",
    "plt.ylabel('Correct Answer')\n",
    "plt.legend(title='Gamma:')\n",
    "plt.show()"
   ]
  },
  {
   "cell_type": "code",
   "execution_count": 105,
   "metadata": {},
   "outputs": [
    {
     "data": {
      "text/plain": [
       "array([9], dtype=int64)"
      ]
     },
     "execution_count": 105,
     "metadata": {},
     "output_type": "execute_result"
    }
   ],
   "source": [
    "max = np.argwhere(right_guess == top[\"scale\"])\n",
    "max[0]"
   ]
  },
  {
   "cell_type": "code",
   "execution_count": 68,
   "metadata": {},
   "outputs": [],
   "source": [
    "from sklearn.model_selection import GridSearchCV"
   ]
  },
  {
   "cell_type": "code",
   "execution_count": 69,
   "metadata": {},
   "outputs": [
    {
     "name": "stderr",
     "output_type": "stream",
     "text": [
      "C:\\Users\\asus\\anaconda3\\lib\\site-packages\\sklearn\\model_selection\\_split.py:670: UserWarning: The least populated class in y has only 1 members, which is less than n_splits=5.\n",
      "  warnings.warn((\"The least populated class in y has only %d\"\n"
     ]
    },
    {
     "data": {
      "text/plain": [
       "GridSearchCV(estimator=SVC(),\n",
       "             param_grid={'C': [4, 5, 6, 7, 8, 9, 10, 11, 12, 13, 14],\n",
       "                         'gamma': ['scale', 'auto']})"
      ]
     },
     "execution_count": 69,
     "metadata": {},
     "output_type": "execute_result"
    }
   ],
   "source": [
    "parameters = {'C': [4, 5, 6, 7, 8, 9, 10, 11, 12, 13, 14], 'gamma': ['scale','auto']}\n",
    "clf = svm.SVC()\n",
    "grid_clf = GridSearchCV(clf, parameters)\n",
    "grid_clf.fit(x_train,y_train.values.ravel())"
   ]
  },
  {
   "cell_type": "code",
   "execution_count": 73,
   "metadata": {},
   "outputs": [
    {
     "name": "stdout",
     "output_type": "stream",
     "text": [
      "{'C': 13, 'gamma': 'scale'}\n"
     ]
    }
   ],
   "source": [
    "print(grid_clf.best_params_)"
   ]
  },
  {
   "cell_type": "code",
   "execution_count": 77,
   "metadata": {},
   "outputs": [
    {
     "data": {
      "text/plain": [
       "13"
      ]
     },
     "execution_count": 77,
     "metadata": {},
     "output_type": "execute_result"
    }
   ],
   "source": [
    "grid_clf.best_params_['C']"
   ]
  },
  {
   "cell_type": "code",
   "execution_count": 78,
   "metadata": {},
   "outputs": [
    {
     "data": {
      "text/plain": [
       "'scale'"
      ]
     },
     "execution_count": 78,
     "metadata": {},
     "output_type": "execute_result"
    }
   ],
   "source": [
    "grid_clf.best_params_['gamma']"
   ]
  },
  {
   "cell_type": "markdown",
   "metadata": {},
   "source": [
    "## Testing Phase"
   ]
  },
  {
   "cell_type": "code",
   "execution_count": 79,
   "metadata": {},
   "outputs": [
    {
     "data": {
      "text/plain": [
       "80"
      ]
     },
     "execution_count": 79,
     "metadata": {},
     "output_type": "execute_result"
    }
   ],
   "source": [
    "#find number of images in file\n",
    "list = os.listdir(TEST_FOLDER) # dir is your directory path\n",
    "number_files = len(list)\n",
    "number_files"
   ]
  },
  {
   "cell_type": "markdown",
   "metadata": {},
   "source": [
    "### Discrete Wavelet Transform"
   ]
  },
  {
   "cell_type": "code",
   "execution_count": 80,
   "metadata": {},
   "outputs": [],
   "source": [
    "test_dwt= []"
   ]
  },
  {
   "cell_type": "code",
   "execution_count": 81,
   "metadata": {},
   "outputs": [],
   "source": [
    "for iteration in range(number_files):\n",
    "    i = iteration+1\n",
    "    img = Image.open(f'{TEST_FOLDER}/{str(i)}.jpg')\n",
    "    coeffs = pywt.wavedec2(img, wavelet = w, level = 2) \n",
    "    coeff_arr, coeff_slices = pywt.coeffs_to_array(coeffs) #arrange coeffs into single array\n",
    "    features = coeff_arr[coeff_slices[0]]\n",
    "\n",
    "    test_dwt.append(features)"
   ]
  },
  {
   "cell_type": "markdown",
   "metadata": {},
   "source": [
    "### Discrete COsine Transform"
   ]
  },
  {
   "cell_type": "code",
   "execution_count": 82,
   "metadata": {},
   "outputs": [],
   "source": [
    "test_dct_coeffs =[]"
   ]
  },
  {
   "cell_type": "code",
   "execution_count": 83,
   "metadata": {},
   "outputs": [],
   "source": [
    "for i in range(80):\n",
    "    coeff = dctn(test_dwt[i] , norm ='ortho')\n",
    "    test_dct_coeffs.append(coeff)"
   ]
  },
  {
   "cell_type": "code",
   "execution_count": 84,
   "metadata": {},
   "outputs": [],
   "source": [
    "test_coeffs_min = len(test_dct_coeffs[0])*len(test_dct_coeffs[0])\n",
    "test_ind_coeffs_min = test_dct_coeffs[0]\n",
    "for i in range(len(test_dct_coeffs)):\n",
    "    if(len(test_dct_coeffs[i])*len(test_dct_coeffs[i][0])<test_coeffs_min):\n",
    "        test_coeffs_min = len(test_dct_coeffs[i])*len(test_dct_coeffs[i][0])\n",
    "        test_ind_coeffs_min = i"
   ]
  },
  {
   "cell_type": "code",
   "execution_count": 85,
   "metadata": {},
   "outputs": [],
   "source": [
    "test_new_coeffs = []\n",
    "if test_coeffs_min > coeffs_min:\n",
    "    test_coeffs_min = coeffs_min"
   ]
  },
  {
   "cell_type": "code",
   "execution_count": 86,
   "metadata": {},
   "outputs": [],
   "source": [
    "for n in range(number_files):\n",
    "    height = len(test_dct_coeffs[n])\n",
    "    width = len(test_dct_coeffs[n][0])\n",
    "    row = []\n",
    "    for k in range(width+height-1):\n",
    "        for j in range(k+1):\n",
    "            i = k-j\n",
    "            if i<height and j<width:\n",
    "                if len(row) < coeffs_min:\n",
    "                    row.append(test_dct_coeffs[n][i][j])\n",
    "    test_new_coeffs.append(row)"
   ]
  },
  {
   "cell_type": "code",
   "execution_count": 87,
   "metadata": {},
   "outputs": [
    {
     "data": {
      "text/plain": [
       "572"
      ]
     },
     "execution_count": 87,
     "metadata": {},
     "output_type": "execute_result"
    }
   ],
   "source": [
    "len(test_new_coeffs[0])"
   ]
  },
  {
   "cell_type": "markdown",
   "metadata": {},
   "source": [
    "### SVM"
   ]
  },
  {
   "cell_type": "markdown",
   "metadata": {},
   "source": [
    "Test data"
   ]
  },
  {
   "cell_type": "code",
   "execution_count": 88,
   "metadata": {},
   "outputs": [],
   "source": [
    "x_test = test_new_coeffs\n",
    "y_test = pd.read_csv(TEST_CSV, header=None)"
   ]
  },
  {
   "cell_type": "code",
   "execution_count": 89,
   "metadata": {},
   "outputs": [
    {
     "data": {
      "text/plain": [
       "SVC(C=13)"
      ]
     },
     "execution_count": 89,
     "metadata": {},
     "output_type": "execute_result"
    }
   ],
   "source": [
    "final_classifier = svm.SVC(C = grid_clf.best_params_['C'],gamma = grid_clf.best_params_['gamma'])\n",
    "final_classifier.fit(x_train,y_train.values.ravel())"
   ]
  },
  {
   "cell_type": "code",
   "execution_count": 90,
   "metadata": {},
   "outputs": [
    {
     "data": {
      "text/plain": [
       "array([10, 16, 20, 14,  7, 10, 10,  4, 11, 13, 16, 10,  6, 10, 10,  2,  4,\n",
       "        6,  6,  2,  2,  2, 10, 13, 10,  4, 10, 13, 10, 10, 16, 16,  2, 13,\n",
       "       16,  5,  5,  5, 20,  2, 20,  2,  2,  2, 11, 13, 10, 19, 19, 19,  7,\n",
       "        7, 14, 23, 14, 24, 10, 10, 10, 10, 12, 16, 22,  2,  7, 14, 14, 11,\n",
       "        4, 24, 14,  2,  2, 24, 24,  2, 15, 14,  9, 21], dtype=int64)"
      ]
     },
     "execution_count": 90,
     "metadata": {},
     "output_type": "execute_result"
    }
   ],
   "source": [
    "final_result = final_classifier.predict(x_test)\n",
    "final_result"
   ]
  },
  {
   "cell_type": "code",
   "execution_count": 91,
   "metadata": {},
   "outputs": [
    {
     "data": {
      "text/plain": [
       "45.0"
      ]
     },
     "execution_count": 91,
     "metadata": {},
     "output_type": "execute_result"
    }
   ],
   "source": [
    "final_cnt = 0\n",
    "for i in range(len(y_test)):\n",
    "    if(final_result[i]==y_test[0].values[i]):\n",
    "        final_cnt = final_cnt+1\n",
    "final_acc = final_cnt/len(y_test)\n",
    "final_acc*100"
   ]
  },
  {
   "cell_type": "code",
   "execution_count": 120,
   "metadata": {},
   "outputs": [],
   "source": [
    "from sklearn.metrics import confusion_matrix\n",
    "from sklearn.metrics import accuracy_score\n",
    "from sklearn.metrics import precision_score"
   ]
  },
  {
   "cell_type": "code",
   "execution_count": 118,
   "metadata": {},
   "outputs": [
    {
     "data": {
      "text/plain": [
       "0.45"
      ]
     },
     "execution_count": 118,
     "metadata": {},
     "output_type": "execute_result"
    }
   ],
   "source": [
    "accuracy_score(y_test, final_result)"
   ]
  },
  {
   "cell_type": "code",
   "execution_count": 121,
   "metadata": {},
   "outputs": [
    {
     "name": "stderr",
     "output_type": "stream",
     "text": [
      "C:\\Users\\asus\\anaconda3\\lib\\site-packages\\sklearn\\metrics\\_classification.py:1221: UndefinedMetricWarning: Precision is ill-defined and being set to 0.0 in labels with no predicted samples. Use `zero_division` parameter to control this behavior.\n",
      "  _warn_prf(average, modifier, msg_start, len(result))\n"
     ]
    },
    {
     "data": {
      "text/plain": [
       "array([0.23076923, 0.75      , 1.        , 1.        , 0.5       ,\n",
       "       0.        , 0.        , 0.125     , 0.66666667, 1.        ,\n",
       "       0.2       , 0.28571429, 1.        , 0.33333333, 0.        ,\n",
       "       0.        , 1.        , 1.        , 1.        , 1.        ,\n",
       "       1.        , 0.5       , 0.        ])"
      ]
     },
     "execution_count": 121,
     "metadata": {},
     "output_type": "execute_result"
    }
   ],
   "source": [
    "precision_score(y_test, final_result, average=None)"
   ]
  }
 ],
 "metadata": {
  "kernelspec": {
   "display_name": "Python 3",
   "language": "python",
   "name": "python3"
  },
  "language_info": {
   "codemirror_mode": {
    "name": "ipython",
    "version": 3
   },
   "file_extension": ".py",
   "mimetype": "text/x-python",
   "name": "python",
   "nbconvert_exporter": "python",
   "pygments_lexer": "ipython3",
   "version": "3.8.3"
  }
 },
 "nbformat": 4,
 "nbformat_minor": 4
}
